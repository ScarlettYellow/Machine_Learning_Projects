{
 "cells": [
  {
   "cell_type": "markdown",
   "metadata": {},
   "source": [
    "**1.使用2种不同配置的K近邻回归模型对美国波士顿放假数据进行回归预测**"
   ]
  },
  {
   "cell_type": "code",
   "execution_count": 3,
   "metadata": {},
   "outputs": [],
   "source": [
    "from sklearn.datasets import load_boston\n",
    "boston=load_boston()\n",
    "\n",
    "from sklearn.cross_validation import train_test_split\n",
    "import numpy as np\n",
    "X=boston.data\n",
    "y=boston.target\n",
    "X_train,X_test,y_train,y_test=train_test_split(X,y,test_size=0.25,random_state=33)\n",
    "\n",
    "\n",
    "\n",
    "from sklearn.neighbors import KNeighborsRegressor\n",
    "\n",
    "# 初始化回归器，调整配置，使预测方式为平均回归，weights='uniform'\n",
    "uni_knr=KNeighborsRegressor(weights='uniform')\n",
    "uni_knr.fit(X_train,y_train)\n",
    "uni_knr_y_predict=uni_knr.predict(X_test)\n",
    "\n",
    "# 初始化回归器，调整配置，使预测方式为根据距离加权回归，weights='distance'\n",
    "dis_knr=KNeighborsRegressor(weights='distance')\n",
    "dis_knr.fit(X_train,y_train)\n",
    "dis_knr_y_predict=dis_knr.predict(X_test)"
   ]
  },
  {
   "cell_type": "markdown",
   "metadata": {},
   "source": [
    "**2.性能测评**"
   ]
  },
  {
   "cell_type": "code",
   "execution_count": 5,
   "metadata": {},
   "outputs": [
    {
     "name": "stdout",
     "output_type": "stream",
     "text": [
      "Uniform 0.6418225886716102 27.773540157480316 3.7645669291338586\n",
      "Distance 0.6565370125979323 26.63256467749057 3.6251742046017417\n"
     ]
    }
   ],
   "source": [
    "# 使用R-squared、MSE、MAE三指标分别对两种不同配置的模型进行性能评估\n",
    "from sklearn.metrics import r2_score,mean_squared_error,mean_absolute_error\n",
    "\n",
    "print 'Uniform',uni_knr.score(X_test,y_test),mean_squared_error(y_test,uni_knr_y_predict),mean_absolute_error(y_test,uni_knr_y_predict)\n",
    "print 'Distance',dis_knr.score(X_test,y_test),mean_squared_error(y_test,dis_knr_y_predict),mean_absolute_error(y_test,dis_knr_y_predict)"
   ]
  },
  {
   "cell_type": "markdown",
   "metadata": {},
   "source": [
    "由上可知，K近邻加权平均的回归策略具有更好的预测性能。"
   ]
  }
 ],
 "metadata": {
  "kernelspec": {
   "display_name": "Python 2",
   "language": "python",
   "name": "python2"
  },
  "language_info": {
   "codemirror_mode": {
    "name": "ipython",
    "version": 2
   },
   "file_extension": ".py",
   "mimetype": "text/x-python",
   "name": "python",
   "nbconvert_exporter": "python",
   "pygments_lexer": "ipython2",
   "version": "2.7.10"
  }
 },
 "nbformat": 4,
 "nbformat_minor": 2
}
