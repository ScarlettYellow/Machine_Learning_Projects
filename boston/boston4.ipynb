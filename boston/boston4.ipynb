{
 "cells": [
  {
   "cell_type": "markdown",
   "metadata": {},
   "source": [
    "**1.使用三种集成回归模型对波士顿房间训练数据进行学习，并对测试数据进行预测**"
   ]
  },
  {
   "cell_type": "code",
   "execution_count": 7,
   "metadata": {},
   "outputs": [],
   "source": [
    "from sklearn.datasets import load_boston\n",
    "boston=load_boston()\n",
    "\n",
    "from sklearn.cross_validation import train_test_split\n",
    "import numpy as np\n",
    "X=boston.data\n",
    "y=boston.target\n",
    "X_train,X_test,y_train,y_test=train_test_split(X,y,test_size=0.25,random_state=33)\n",
    "\n",
    "\n",
    "from sklearn.ensemble import RandomForestRegressor,ExtraTreesRegressor,GradientBoostingRegressor\n",
    "\n",
    "rfr=RandomForestRegressor()\n",
    "rfr=rfr.fit(X_train,y_train)\n",
    "rfr_y_predict=rfr.predict(X_test)\n",
    "\n",
    "etr=ExtraTreesRegressor()\n",
    "etr=etr.fit(X_train,y_train)\n",
    "etr_y_predict=etr.predict(X_test)\n",
    "\n",
    "gbr=GradientBoostingRegressor()\n",
    "gbr=gbr.fit(X_train,y_train)\n",
    "gbr_y_predict=gbr.predict(X_test)"
   ]
  },
  {
   "cell_type": "markdown",
   "metadata": {},
   "source": [
    "**2.性能评估**"
   ]
  },
  {
   "cell_type": "code",
   "execution_count": 6,
   "metadata": {},
   "outputs": [
    {
     "name": "stdout",
     "output_type": "stream",
     "text": [
      "RFR 0.8515156020299433 11.513672440944882 2.257322834645669\n",
      "ETR 0.8003897320777417 15.478038582677165 2.416299212598424\n",
      "GBR 0.8430286082992219 12.171764921769585 2.277247326989519\n"
     ]
    }
   ],
   "source": [
    "from sklearn.metrics import r2_score,mean_squared_error,mean_absolute_error\n",
    "\n",
    "print 'RFR',rfr.score(X_test,y_test),mean_squared_error(y_test,rfr_y_predict),mean_absolute_error(y_test,rfr_y_predict)\n",
    "print 'ETR',etr.score(X_test,y_test),mean_squared_error(y_test,etr_y_predict),mean_absolute_error(y_test,etr_y_predict)\n",
    "print 'GBR',gbr.score(X_test,y_test),mean_squared_error(y_test,gbr_y_predict),mean_absolute_error(y_test,gbr_y_predict)"
   ]
  }
 ],
 "metadata": {
  "kernelspec": {
   "display_name": "Python 2",
   "language": "python",
   "name": "python2"
  },
  "language_info": {
   "codemirror_mode": {
    "name": "ipython",
    "version": 2
   },
   "file_extension": ".py",
   "mimetype": "text/x-python",
   "name": "python",
   "nbconvert_exporter": "python",
   "pygments_lexer": "ipython2",
   "version": "2.7.10"
  }
 },
 "nbformat": 4,
 "nbformat_minor": 2
}
