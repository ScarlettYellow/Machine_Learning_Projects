{
 "cells": [
  {
   "cell_type": "markdown",
   "metadata": {},
   "source": [
    "**1.使用回归树对波士顿房价训练数据进行学习，并对测试数据预测**"
   ]
  },
  {
   "cell_type": "code",
   "execution_count": 2,
   "metadata": {},
   "outputs": [],
   "source": [
    "from sklearn.datasets import load_boston\n",
    "boston=load_boston()\n",
    "\n",
    "from sklearn.cross_validation import train_test_split\n",
    "import numpy as np\n",
    "X=boston.data\n",
    "y=boston.target\n",
    "X_train,X_test,y_train,y_test=train_test_split(X,y,test_size=0.25,random_state=33)\n",
    "\n",
    "\n",
    "# 训练模型\n",
    "from sklearn.tree import DecisionTreeRegressor\n",
    "\n",
    "dtr=DecisionTreeRegressor()\n",
    "dtr.fit(X_train,y_train)\n",
    "dtr_y_predict=dtr.predict(X_test)"
   ]
  },
  {
   "cell_type": "markdown",
   "metadata": {},
   "source": [
    "**2.性能测评**"
   ]
  },
  {
   "cell_type": "code",
   "execution_count": 3,
   "metadata": {},
   "outputs": [
    {
     "name": "stdout",
     "output_type": "stream",
     "text": [
      "0.5223911380673973 37.034409448818906 3.4700787401574806\n"
     ]
    }
   ],
   "source": [
    "from sklearn.metrics import r2_score,mean_squared_error,mean_absolute_error\n",
    "\n",
    "print dtr.score(X_test,y_test),mean_squared_error(y_test,dtr_y_predict),mean_absolute_error(y_test,dtr_y_predict)\n",
    "\n"
   ]
  },
  {
   "cell_type": "markdown",
   "metadata": {},
   "source": [
    "树模型（回归树，决策树）\n",
    "\n",
    "- 优点：可解决非线性拟合问题；不要求对特征标准化和统一量化（即数值型、类别型特征都可直接被训练）；可直观输出决策过程，使决策结果具有可解释性\n",
    "- 缺点：容易因为模型搭建得过于复杂而丧失对新数据的精确预测能力（泛化能力）；树模型从上至下的预测流程会因为数据细微的更改而发生较大的结构变化，故预测稳定性较差；在有限时间内无法找到最优解（而只是次优解）"
   ]
  }
 ],
 "metadata": {
  "kernelspec": {
   "display_name": "Python 2",
   "language": "python",
   "name": "python2"
  },
  "language_info": {
   "codemirror_mode": {
    "name": "ipython",
    "version": 2
   },
   "file_extension": ".py",
   "mimetype": "text/x-python",
   "name": "python",
   "nbconvert_exporter": "python",
   "pygments_lexer": "ipython2",
   "version": "2.7.10"
  }
 },
 "nbformat": 4,
 "nbformat_minor": 2
}
