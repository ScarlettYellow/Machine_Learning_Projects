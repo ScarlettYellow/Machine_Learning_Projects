{
 "cells": [
  {
   "cell_type": "markdown",
   "metadata": {},
   "source": [
    "**1.导入和查验数据**"
   ]
  },
  {
   "cell_type": "code",
   "execution_count": 6,
   "metadata": {},
   "outputs": [
    {
     "name": "stdout",
     "output_type": "stream",
     "text": [
      "(3823, 65) (1797, 65)\n",
      "   0   1   2   3   4   5   6   7   8   9  ...  55  56  57  58  59  60  61  62  \\\n",
      "0   0   1   6  15  12   1   0   0   0   7 ...   0   0   0   6  14   7   1   0   \n",
      "1   0   0  10  16   6   0   0   0   0   7 ...   0   0   0  10  16  15   3   0   \n",
      "2   0   0   8  15  16  13   0   0   0   1 ...   0   0   0   9  14   0   0   0   \n",
      "3   0   0   0   3  11  16   0   0   0   0 ...   0   0   0   0   1  15   2   0   \n",
      "4   0   0   5  14   4   0   0   0   0   0 ...   0   0   0   4  12  14   7   0   \n",
      "\n",
      "   63  64  \n",
      "0   0   0  \n",
      "1   0   0  \n",
      "2   0   7  \n",
      "3   0   4  \n",
      "4   0   6  \n",
      "\n",
      "[5 rows x 65 columns]\n",
      "<class 'pandas.core.frame.DataFrame'>\n",
      "RangeIndex: 3823 entries, 0 to 3822\n",
      "Data columns (total 65 columns):\n",
      "0     3823 non-null int64\n",
      "1     3823 non-null int64\n",
      "2     3823 non-null int64\n",
      "3     3823 non-null int64\n",
      "4     3823 non-null int64\n",
      "5     3823 non-null int64\n",
      "6     3823 non-null int64\n",
      "7     3823 non-null int64\n",
      "8     3823 non-null int64\n",
      "9     3823 non-null int64\n",
      "10    3823 non-null int64\n",
      "11    3823 non-null int64\n",
      "12    3823 non-null int64\n",
      "13    3823 non-null int64\n",
      "14    3823 non-null int64\n",
      "15    3823 non-null int64\n",
      "16    3823 non-null int64\n",
      "17    3823 non-null int64\n",
      "18    3823 non-null int64\n",
      "19    3823 non-null int64\n",
      "20    3823 non-null int64\n",
      "21    3823 non-null int64\n",
      "22    3823 non-null int64\n",
      "23    3823 non-null int64\n",
      "24    3823 non-null int64\n",
      "25    3823 non-null int64\n",
      "26    3823 non-null int64\n",
      "27    3823 non-null int64\n",
      "28    3823 non-null int64\n",
      "29    3823 non-null int64\n",
      "30    3823 non-null int64\n",
      "31    3823 non-null int64\n",
      "32    3823 non-null int64\n",
      "33    3823 non-null int64\n",
      "34    3823 non-null int64\n",
      "35    3823 non-null int64\n",
      "36    3823 non-null int64\n",
      "37    3823 non-null int64\n",
      "38    3823 non-null int64\n",
      "39    3823 non-null int64\n",
      "40    3823 non-null int64\n",
      "41    3823 non-null int64\n",
      "42    3823 non-null int64\n",
      "43    3823 non-null int64\n",
      "44    3823 non-null int64\n",
      "45    3823 non-null int64\n",
      "46    3823 non-null int64\n",
      "47    3823 non-null int64\n",
      "48    3823 non-null int64\n",
      "49    3823 non-null int64\n",
      "50    3823 non-null int64\n",
      "51    3823 non-null int64\n",
      "52    3823 non-null int64\n",
      "53    3823 non-null int64\n",
      "54    3823 non-null int64\n",
      "55    3823 non-null int64\n",
      "56    3823 non-null int64\n",
      "57    3823 non-null int64\n",
      "58    3823 non-null int64\n",
      "59    3823 non-null int64\n",
      "60    3823 non-null int64\n",
      "61    3823 non-null int64\n",
      "62    3823 non-null int64\n",
      "63    3823 non-null int64\n",
      "64    3823 non-null int64\n",
      "dtypes: int64(65)\n",
      "memory usage: 1.9 MB\n",
      "None\n"
     ]
    }
   ],
   "source": [
    "import pandas as pd\n",
    "\n",
    "digits_train=pd.read_csv('/Users/scarlett/repository/projects/digits/optdigits.tra',header=None)\n",
    "digits_test=pd.read_csv('/Users/scarlett/repository/projects/digits/optdigits.tes',header=None)\n",
    "# header=None 表示第一行是数据而非文件第一行\n",
    "\n",
    "print digits_train.shape,digits_test.shape\n",
    "print digits_train.head()\n",
    "print digits_train.info()"
   ]
  },
  {
   "cell_type": "markdown",
   "metadata": {},
   "source": [
    "**2.使用K-means算法识别手写体图像数据**"
   ]
  },
  {
   "cell_type": "markdown",
   "metadata": {},
   "source": [
    "图像数据由8*8像素矩阵表示，64个像素维度；1个目标维度用来标记每个图像样本代表的数字类别"
   ]
  },
  {
   "cell_type": "code",
   "execution_count": 14,
   "metadata": {},
   "outputs": [],
   "source": [
    "import numpy as np\n",
    "import matplotlib.pyplot as plt\n",
    "\n",
    "# 从训练集合测试集上都分离出64维度的像素特征和1维度的数字目标\n",
    "X_train=digits_train[np.arange(64)]\n",
    "y_train=digits_train[64]\n",
    "X_test=digits_test[np.arange(64)]\n",
    "y_test=digits_test[64]\n",
    "\n",
    "from sklearn.cluster import KMeans\n",
    "\n",
    "# 初始化模型，并设置聚类中心数量为10\n",
    "kmeans=KMeans(n_clusters=10)\n",
    "kmeans.fit(X_train)\n",
    "# 逐条判断每个测试图像所属的聚类中心\n",
    "y_pred=kmeans.predict(X_test)"
   ]
  },
  {
   "cell_type": "markdown",
   "metadata": {},
   "source": [
    "**3.性能测评**"
   ]
  },
  {
   "cell_type": "code",
   "execution_count": 8,
   "metadata": {},
   "outputs": [
    {
     "name": "stdout",
     "output_type": "stream",
     "text": [
      "0.659285217314107\n"
     ]
    }
   ],
   "source": [
    "# 使用ARI进行K-means聚类性能评估\n",
    "from sklearn import metrics\n",
    "print metrics.adjusted_rand_score(y_test,y_pred)"
   ]
  },
  {
   "cell_type": "code",
   "execution_count": null,
   "metadata": {},
   "outputs": [],
   "source": [
    "# 使用轮廓系数评估不同类簇数量的\n",
    "from sklearn.cluster import KMeans\n",
    "\n",
    "# 导入计算轮廓系数的模块\n",
    "from sklearn.metrics import silhouette_score\n",
    "\n",
    "# 分割出3*2=6个子图，并在1号子图作图；subplot(m,n,p)是将多个图画到一个平面上的工具,m行n列，p=1代表从左到右从上到下的第一个位置\n",
    "plt.subplot(3,2,1)\n",
    "\n",
    "# 初始化原始数据点\n",
    "x1=np.array([1,2,3,1,5,6,5,5,6,7,8,9,7,9])\n",
    "x2=np.array([1,3,2,2,8,6,7,6,7,1,2,1,1,3])\n",
    "X=np.array(zip(x1,x2)).reshape(len(x1),2)\n",
    "\n",
    "# 在1号子图做出原始数据点阵的分布\n",
    "plt.xlim([0,10])\n",
    "plt.ylim([0,10])\n",
    "plt.title('Instance')\n",
    "plt.scatter(x1,x2)\n",
    "\n",
    "colors=['b','g','r','c','m','y','k','b']\n",
    "markers=['o','s','D','v','^','p','*','+']\n",
    "\n",
    "clusters=[2,3,4,5,8]\n",
    "subplot_counter=1\n",
    "sc_scores=[]\n",
    "\n",
    "for t in clusters:\n",
    "    subplot_counter += 1\n",
    "    plt.subplot(3,2,subplot_counter)\n",
    "    kmeans_model=KMeans(n_clusters=t).fit(X)\n",
    "    \n",
    "for i,l in enumerate(kmeans_model.labels_):\n",
    "    plt.plot(x1[i],x2[i],color=colors[l],marker=markers[l],ls='None')\n",
    "    \n",
    "plt.xlim([0,10])\n",
    "plt.ylim([0,10])\n",
    "sc_score=silhouette_score(X,kmeans_model.labels_,metric='euclidean')\n",
    "sc_scores.append(sc_score)\n",
    "\n",
    "plt.title('K=%s,silhouette coefficient=%0.03f' %(t,sc_score))\n",
    "\n",
    "plt.figure()\n",
    "plt.plot(clusters,sc_scores,'*-')\n",
    "plt.xlabel('Number of Clusters')\n",
    "plt.ylabel('silhouette coefficient score')\n",
    "\n",
    "plt.show()"
   ]
  },
  {
   "cell_type": "markdown",
   "metadata": {},
   "source": [
    "由图可知，当聚类中心数量k=3时，轮廓系数最大；由轮廓系数与不同类簇数量的关系曲线可知，聚类中心数量为3也符合数据分布特点。"
   ]
  },
  {
   "cell_type": "markdown",
   "metadata": {},
   "source": [
    "特点分析：\n",
    "\n",
    "- K-means聚类模型采取的是迭代式算法\n",
    "- 缺点：容易收敛到局部最优解；需要预先设定簇的数量"
   ]
  },
  {
   "cell_type": "markdown",
   "metadata": {},
   "source": [
    "**肘部观察法示例**"
   ]
  },
  {
   "cell_type": "code",
   "execution_count": 17,
   "metadata": {},
   "outputs": [
    {
     "name": "stderr",
     "output_type": "stream",
     "text": [
      "/System/Library/Frameworks/Python.framework/Versions/2.7/Extras/lib/python/matplotlib/collections.py:548: FutureWarning: elementwise comparison failed; returning scalar instead, but in the future will perform elementwise comparison\n",
      "  if self._edgecolors == 'face':\n"
     ]
    },
    {
     "ename": "TypeError",
     "evalue": "fit() takes at least 2 arguments (1 given)",
     "output_type": "error",
     "traceback": [
      "\u001b[0;31m---------------------------------------------------\u001b[0m",
      "\u001b[0;31mTypeError\u001b[0m         Traceback (most recent call last)",
      "\u001b[0;32m<ipython-input-17-50311ea886c8>\u001b[0m in \u001b[0;36m<module>\u001b[0;34m()\u001b[0m\n\u001b[1;32m     22\u001b[0m \u001b[0;32mfor\u001b[0m \u001b[0mk\u001b[0m \u001b[0;32min\u001b[0m \u001b[0mK\u001b[0m\u001b[0;34m:\u001b[0m\u001b[0;34m\u001b[0m\u001b[0m\n\u001b[1;32m     23\u001b[0m     \u001b[0mkmeans\u001b[0m\u001b[0;34m=\u001b[0m\u001b[0mKMeans\u001b[0m\u001b[0;34m(\u001b[0m\u001b[0mn_clusters\u001b[0m\u001b[0;34m=\u001b[0m\u001b[0mk\u001b[0m\u001b[0;34m)\u001b[0m\u001b[0;34m\u001b[0m\u001b[0m\n\u001b[0;32m---> 24\u001b[0;31m     \u001b[0mkmeans\u001b[0m\u001b[0;34m.\u001b[0m\u001b[0mfit\u001b[0m\u001b[0;34m(\u001b[0m\u001b[0;34m)\u001b[0m\u001b[0;34m\u001b[0m\u001b[0m\n\u001b[0m\u001b[1;32m     25\u001b[0m     \u001b[0mmeandistortions\u001b[0m\u001b[0;34m.\u001b[0m\u001b[0mappend\u001b[0m\u001b[0;34m(\u001b[0m\u001b[0msum\u001b[0m\u001b[0;34m(\u001b[0m\u001b[0mnp\u001b[0m\u001b[0;34m.\u001b[0m\u001b[0mmin\u001b[0m\u001b[0;34m(\u001b[0m\u001b[0mcdist\u001b[0m\u001b[0;34m(\u001b[0m\u001b[0mX\u001b[0m\u001b[0;34m,\u001b[0m\u001b[0mkmeans\u001b[0m\u001b[0;34m.\u001b[0m\u001b[0mcluster_centers_\u001b[0m\u001b[0;34m,\u001b[0m\u001b[0;34m'euclidean'\u001b[0m\u001b[0;34m)\u001b[0m\u001b[0;34m,\u001b[0m\u001b[0maxis\u001b[0m\u001b[0;34m=\u001b[0m\u001b[0;36m1\u001b[0m\u001b[0;34m)\u001b[0m\u001b[0;34m)\u001b[0m\u001b[0;34m/\u001b[0m\u001b[0mX\u001b[0m\u001b[0;34m.\u001b[0m\u001b[0mshape\u001b[0m\u001b[0;34m[\u001b[0m\u001b[0;36m0\u001b[0m\u001b[0;34m]\u001b[0m\u001b[0;34m)\u001b[0m\u001b[0;34m\u001b[0m\u001b[0m\n\u001b[1;32m     26\u001b[0m \u001b[0;34m\u001b[0m\u001b[0m\n",
      "\u001b[0;31mTypeError\u001b[0m: fit() takes at least 2 arguments (1 given)"
     ]
    }
   ],
   "source": [
    "import numpy as np\n",
    "from sklearn.cluster import KMeans\n",
    "from scipy.spatial.distance import cdist\n",
    "import matplotlib.pyplot as plt\n",
    "\n",
    "# 使用均匀分布函数随机三个簇，每个簇周围10个数据样本\n",
    "cluster1=np.random.uniform(0.5,1.5,(2,10))\n",
    "cluster2=np.random.uniform(5.5,6.5,(2,10))\n",
    "cluster3=np.random.uniform(10.5,11.5,(2,10))\n",
    "\n",
    "# 绘制30个数据样本的分布图像\n",
    "X=np.hstack((cluster1,cluster2,cluster3)).T\n",
    "plt.scatter(X[:,0],X[:,1])\n",
    "plt.xlabel('x1')\n",
    "plt.ylabel('x2')\n",
    "plt.show()\n",
    "\n",
    "# 测试9种不同聚类中心数量下，每种情况的聚类质量\n",
    "K=range(1,10)\n",
    "meandistortions=[]\n",
    "\n",
    "for k in K:\n",
    "    kmeans=KMeans(n_clusters=k)\n",
    "    kmeans.fit()\n",
    "    meandistortions.append(sum(np.min(cdist(X,kmeans.cluster_centers_,'euclidean'),axis=1))/X.shape[0])\n",
    "\n",
    "    \n",
    "plt.plot(K,meandistortions,'bx-')\n",
    "plt.xlabel('k')\n",
    "plt.ylabel('Average Dispersion')\n",
    "plt.title('Selecting k with the Elbow Method')\n",
    "plt.show()"
   ]
  },
  {
   "cell_type": "code",
   "execution_count": null,
   "metadata": {},
   "outputs": [],
   "source": []
  }
 ],
 "metadata": {
  "kernelspec": {
   "display_name": "Python 2",
   "language": "python",
   "name": "python2"
  },
  "language_info": {
   "codemirror_mode": {
    "name": "ipython",
    "version": 2
   },
   "file_extension": ".py",
   "mimetype": "text/x-python",
   "name": "python",
   "nbconvert_exporter": "python",
   "pygments_lexer": "ipython2",
   "version": "2.7.10"
  }
 },
 "nbformat": 4,
 "nbformat_minor": 2
}
