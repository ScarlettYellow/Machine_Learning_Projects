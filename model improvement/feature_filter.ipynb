{
 "cells": [
  {
   "cell_type": "markdown",
   "metadata": {},
   "source": [
    "1.使用Titanic数据集，通过特征筛选法一步步提升决策树的预测性能"
   ]
  },
  {
   "cell_type": "code",
   "execution_count": 7,
   "metadata": {},
   "outputs": [
    {
     "name": "stdout",
     "output_type": "stream",
     "text": [
      "(1313, 11)\n",
      "<class 'pandas.core.frame.DataFrame'>\n",
      "RangeIndex: 1313 entries, 0 to 1312\n",
      "Data columns (total 11 columns):\n",
      "row.names    1313 non-null int64\n",
      "pclass       1313 non-null object\n",
      "survived     1313 non-null int64\n",
      "name         1313 non-null object\n",
      "age          633 non-null float64\n",
      "embarked     821 non-null object\n",
      "home.dest    754 non-null object\n",
      "room         77 non-null object\n",
      "ticket       69 non-null object\n",
      "boat         347 non-null object\n",
      "sex          1313 non-null object\n",
      "dtypes: float64(1), int64(2), object(8)\n",
      "memory usage: 112.9+ KB\n",
      "None\n"
     ]
    }
   ],
   "source": [
    "# 导入数据\n",
    "import pandas as pd\n",
    "titanic=pd.read_csv('/Users/scarlett/repository/projects/titanic/titanic.csv')\n",
    "print titanic.shape\n",
    "print titanic.info()\n",
    "\n",
    "# 分离数据特征与预测目标\n",
    "y=titanic['survived']\n",
    "X=titanic.drop(['row.names','name','survived'],axis=1)\n",
    "\n",
    "# 填充缺失数据\n",
    "X['age'].fillna(X['age'].mean(),inplace=True)\n",
    "X.fillna('UNKNOWN',inplace=True)\n",
    "\n",
    "# 分割数据\n",
    "from sklearn.cross_validation import train_test_split\n",
    "X_train,y_train,X_test,y_test=train_test_split(X,y,test_size=0.25,random_state=33)"
   ]
  },
  {
   "cell_type": "code",
   "execution_count": null,
   "metadata": {},
   "outputs": [],
   "source": [
    "# 类别型特征向量化\n",
    "from sklearn.feature_extraction import DictVectorizer\n",
    "vec=DictVectorizer()\n",
    "X_train=vec.fit_transform(X_train.to_dict(orient='record'))\n",
    "X_test=vec.transform(X_test.to_dict(orient='record'))\n",
    "print len(vec.feature_names_)"
   ]
  },
  {
   "cell_type": "code",
   "execution_count": null,
   "metadata": {},
   "outputs": [],
   "source": [
    "from sklearn.tree import DecisionTreeClassifier\n",
    "dt=DecisionTreeClassifier()\n",
    "dt.fit(X_train,y_train)\n",
    "dt.score(X_test,y_test)"
   ]
  },
  {
   "cell_type": "code",
   "execution_count": null,
   "metadata": {},
   "outputs": [],
   "source": [
    "# 导入特征筛选器\n",
    "from sklearn import feature_selection\n",
    "fs=feature_selection.SelectPercentile(feature_selection.chi2,percentile=20)\n",
    "X_train_fs=fs.fit_transform(X_train,y_train)\n",
    "dt.fit(X_train_fs,y_train)\n",
    "X_test_fs=fs.transform(X_test)\n",
    "dt.score(X_test_fs,y_test)"
   ]
  },
  {
   "cell_type": "code",
   "execution_count": null,
   "metadata": {},
   "outputs": [],
   "source": [
    "# 通过交叉验证法，按照固定间隔的百分比筛选特征，并作图展示性能岁特征筛选比例的变化\n",
    "from sklearn.cross_validation import cross_val_score\n",
    "import numpy as np\n",
    "percentile=range(1,100,2)\n",
    "results=[]\n",
    "\n",
    "for i in percentile:\n",
    "    fs=feature_selection.SelectPercentile(feature_selection.chi2,percentile=i)\n",
    "    X_train_fs=fs.fit_transform(X_train,y_train)\n",
    "    scores=cross_val_score(dt,X_train_fs,y_train,cv=5)\n",
    "    results=np.append(results,scores.mean())\n",
    "    print results\n",
    "    \n",
    "# 找到提现最佳性能的特征筛选的百分比\n",
    "opt=np.where(results==results.max())[0]\n",
    "print 'Optimal number of features %d'%percentiles[opt]"
   ]
  }
 ],
 "metadata": {
  "kernelspec": {
   "display_name": "Python 2",
   "language": "python",
   "name": "python2"
  },
  "language_info": {
   "codemirror_mode": {
    "name": "ipython",
    "version": 2
   },
   "file_extension": ".py",
   "mimetype": "text/x-python",
   "name": "python",
   "nbconvert_exporter": "python",
   "pygments_lexer": "ipython2",
   "version": "2.7.10"
  }
 },
 "nbformat": 4,
 "nbformat_minor": 2
}
