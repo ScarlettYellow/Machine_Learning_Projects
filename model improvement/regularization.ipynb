{
 "cells": [
  {
   "cell_type": "markdown",
   "metadata": {},
   "source": [
    "1.使用线性回归模型在披萨训练样本上进行拟合"
   ]
  },
  {
   "cell_type": "code",
   "execution_count": 10,
   "metadata": {},
   "outputs": [
    {
     "name": "stdout",
     "output_type": "stream",
     "text": [
      "0.9100015964240102\n"
     ]
    }
   ],
   "source": [
    "X_train=[[6],[8],[10],[14],[18]]\n",
    "y_train=[[7],[9],[13],[17.5],[18]]\n",
    "\n",
    "# 导入线性回归模型\n",
    "from sklearn.linear_model import LinearRegression\n",
    "regressor=LinearRegression()\n",
    "regressor.fit(X_train,y_train)\n",
    "\n",
    "# 导入numpy\n",
    "import numpy as np\n",
    "# 在x轴上从0-25均匀采样100个数据点,并以100个数据点为基准，预测回归直线\n",
    "xx=np.linspace(0,26,100)\n",
    "xx=xx.reshape(xx.shape[0],1)\n",
    "yy=regressor.predict(xx)\n",
    "\n",
    "# 对预测到的直线作图,\n",
    "import matplotlib.pyplot as plt\n",
    "plt.scatter(X_train,y_train)\n",
    "# 使用plt.plot()画(x,y)曲线,degree=1表示特征是一维的，做个标记\n",
    "plt1,=plt.plot(xx,yy,label=\"Degree=1\")\n",
    "plt.axis([0,25,0,25]) # axis表示坐标的极值范围\n",
    "plt.xlabel('Diameter of pizza')\n",
    "plt.ylabel('Price') \n",
    "plt.show()\n",
    "\n",
    "# 输出模型在训练样本上的R-squared值\n",
    "print regressor.score(X_train,y_train)"
   ]
  },
  {
   "cell_type": "markdown",
   "metadata": {},
   "source": [
    "接下来我们尝试将原特征提高一个维度，用2次多项式回归来拟合训练样本"
   ]
  },
  {
   "cell_type": "markdown",
   "metadata": {},
   "source": [
    "2.使用2次多项式回归模型在训练样本上进行拟合"
   ]
  },
  {
   "cell_type": "code",
   "execution_count": 15,
   "metadata": {},
   "outputs": [
    {
     "name": "stdout",
     "output_type": "stream",
     "text": [
      "0.9816421639597428\n"
     ]
    }
   ],
   "source": [
    "from sklearn.preprocessing import PolynomialFeatures\n",
    "# 使用PolynomialFeatures(degree=2)映射出2次多项式特征\n",
    "poly2=PolynomialFeatures(degree=2)\n",
    "X_train_poly2=poly2.fit_transform(X_train)\n",
    "\n",
    "# 以线性回归模型为基础，初始化模型（特征维度提升，但模型仍是线性回归模型）\n",
    "regressor_poly2=LinearRegression()\n",
    "regressor_poly2.fit(X_train_poly2,y_train)\n",
    "\n",
    "# 从新映射绘图用x轴采样数据\n",
    "xx_poly2=poly2.transform(xx)\n",
    "\n",
    "# 预测\n",
    "yy_poly2=regressor_poly2.predict(xx_poly2)\n",
    "\n",
    "# 作图\n",
    "plt.scatter(X_train,y_train)\n",
    "plt1,=plt.plot(xx,yy,label='degree=1')\n",
    "plt2,=plt.plot(xx,yy_poly2,label='degree=2')\n",
    "plt.axis([0,25,0,25])\n",
    "plt.xlabel('diameter')\n",
    "plt.ylabel('price')\n",
    "plt.show()\n",
    "\n",
    "print regressor_poly2.score(X_train_poly2,y_train)"
   ]
  },
  {
   "cell_type": "markdown",
   "metadata": {},
   "source": [
    "果然在升高特征维度后，模型性能更高，对训练数据的拟合程度更好。接下来我们进一步提高特征维度。"
   ]
  },
  {
   "cell_type": "code",
   "execution_count": 16,
   "metadata": {},
   "outputs": [
    {
     "name": "stdout",
     "output_type": "stream",
     "text": [
      "1.0\n"
     ]
    }
   ],
   "source": [
    "from sklearn.preprocessing import PolynomialFeatures\n",
    "# 使用PolynomialFeatures(degree=4)映射出2次多项式特征\n",
    "poly4=PolynomialFeatures(degree=4)\n",
    "X_train_poly4=poly4.fit_transform(X_train)\n",
    "\n",
    "# 以线性回归模型为基础，初始化模型（特征维度提升，但模型仍是线性回归模型）\n",
    "regressor_poly4=LinearRegression()\n",
    "regressor_poly4.fit(X_train_poly4,y_train)\n",
    "\n",
    "# 从新映射绘图用x轴采样数据\n",
    "xx_poly4=poly4.transform(xx)\n",
    "\n",
    "# 预测\n",
    "yy_poly4=regressor_poly4.predict(xx_poly4)\n",
    "\n",
    "# 作图\n",
    "plt.scatter(X_train,y_train)\n",
    "plt1,=plt.plot(xx,yy,label='degree=1')\n",
    "plt2,=plt.plot(xx,yy_poly2,label='degree=2')\n",
    "plt3,=plt.plot(xx,yy_poly4,label='degree=4')\n",
    "plt.axis([0,25,0,25])\n",
    "plt.xlabel('diameter')\n",
    "plt.ylabel('price')\n",
    "plt.show()\n",
    "\n",
    "print regressor_poly4.score(X_train_poly4,y_train)"
   ]
  },
  {
   "cell_type": "markdown",
   "metadata": {},
   "source": [
    "由图和R平方指标可见，4次多项式曲线几乎完全拟合了所有训练样本点。接下来我们看着三种特征维度下的模型分别在测试集上的性能表现。"
   ]
  },
  {
   "cell_type": "markdown",
   "metadata": {},
   "source": [
    "3.评估3种回归模型在测试集上的性能表现"
   ]
  },
  {
   "cell_type": "code",
   "execution_count": 18,
   "metadata": {},
   "outputs": [],
   "source": [
    "X_test=[[6],[8],[11],[16]]\n",
    "y_test=[[8],[12],[15],[18]]"
   ]
  },
  {
   "cell_type": "code",
   "execution_count": 19,
   "metadata": {},
   "outputs": [
    {
     "name": "stdout",
     "output_type": "stream",
     "text": [
      "0.809726797707665\n",
      "0.8675443656345108\n",
      "0.8095880795788558\n"
     ]
    }
   ],
   "source": [
    "# degree=1\n",
    "print regressor.score(X_test,y_test)\n",
    "\n",
    "# degree=2\n",
    "X_test_poly2=poly2.transform(X_test)\n",
    "print regressor_poly2.score(X_test_poly2,y_test)\n",
    "\n",
    "# degree=4\n",
    "X_test_poly4=poly4.transform(X_test)\n",
    "print regressor_poly4.score(X_test_poly4,y_test)"
   ]
  },
  {
   "cell_type": "markdown",
   "metadata": {},
   "source": [
    "由输出可见\n",
    "\n",
    "- 欠拟合：当模型复杂度很低时(degree=1)，模型既在训练集上拟合不好，又在测试集上表现一般\n",
    "- 过拟合：一味追求高模型复杂度(degree=4)，尽管模型完美拟合了几乎所有训练数据，但模型会变得非常波动，几乎丧失了对未知数据的预测能力\n",
    "\n",
    "这两种都是模型缺乏泛化力的表现。\n",
    "\n",
    "要求我们在增加模型复杂度、提高在可观测数据上的性能表现的同时，需要兼顾模型的泛化力，防止发生过拟合。为了平衡这两种选择，我们通常采用2种模型正则化方法：L1范数正则化 & L2范数正则化 "
   ]
  },
  {
   "cell_type": "markdown",
   "metadata": {},
   "source": [
    "2.Lasso模型在4次多项式特征上的拟合表现"
   ]
  },
  {
   "cell_type": "code",
   "execution_count": 23,
   "metadata": {},
   "outputs": [
    {
     "name": "stdout",
     "output_type": "stream",
     "text": [
      "0.8388926873604382\n",
      "[ 0.00000000e+00  0.00000000e+00  1.17900534e-01  5.42646770e-05\n",
      " -2.23027128e-04]\n"
     ]
    }
   ],
   "source": [
    "from sklearn.linear_model import Lasso\n",
    "lasso_poly4=Lasso()\n",
    "lasso_poly4.fit(X_train_poly4,y_train)\n",
    "print lasso_poly4.score(X_test_poly4,y_test)\n",
    "# 输出lasso模型的参数列表\n",
    "print lasso_poly4.coef_"
   ]
  },
  {
   "cell_type": "code",
   "execution_count": 22,
   "metadata": {},
   "outputs": [
    {
     "name": "stdout",
     "output_type": "stream",
     "text": [
      "0.8095880795788558\n",
      "[[ 0.00000000e+00 -2.51739583e+01  3.68906250e+00 -2.12760417e-01\n",
      "   4.29687500e-03]]\n"
     ]
    }
   ],
   "source": [
    "# 回顾普通4次多项式回归模型拟合后的性能和参数列表\n",
    "print regressor_poly4.score(X_test_poly4,y_test)\n",
    "print regressor_poly4.coef_"
   ]
  },
  {
   "cell_type": "markdown",
   "metadata": {},
   "source": [
    "由上可见，默认配置的lasso模型性能提高了约3%。lasso模型拟合后的参数列表中，4次与3次特征的参数均为0.0，使得特征更加稀疏。"
   ]
  },
  {
   "cell_type": "markdown",
   "metadata": {},
   "source": [
    "3.Ridge模型在4次多项式特征上的拟合表现"
   ]
  },
  {
   "cell_type": "code",
   "execution_count": 25,
   "metadata": {},
   "outputs": [
    {
     "name": "stdout",
     "output_type": "stream",
     "text": [
      "[[ 0.00000000e+00 -2.51739583e+01  3.68906250e+00 -2.12760417e-01\n",
      "   4.29687500e-03]]\n",
      "647.3826457370965\n"
     ]
    }
   ],
   "source": [
    "# 输出普通4次多项式回归模型的参数列表\n",
    "print regressor_poly4.coef_\n",
    "# 输出上述参数的平方和，验证参数间的巨大差异\n",
    "print np.sum(regressor_poly4.coef_ **2)"
   ]
  },
  {
   "cell_type": "code",
   "execution_count": 27,
   "metadata": {},
   "outputs": [
    {
     "name": "stdout",
     "output_type": "stream",
     "text": [
      "0.8374201759366331\n",
      "[[ 0.         -0.00492536  0.12439632 -0.00046471 -0.00021205]]\n",
      "0.01549896520353474\n"
     ]
    }
   ],
   "source": [
    "from sklearn.linear_model import Ridge\n",
    "ridge_poly4=Ridge()\n",
    "ridge_poly4.fit(X_train_poly4,y_train)\n",
    "print ridge_poly4.score(X_test_poly4,y_test)\n",
    "print ridge_poly4.coef_\n",
    "print np.sum(ridge_poly4.coef_ **2)"
   ]
  },
  {
   "cell_type": "markdown",
   "metadata": {},
   "source": [
    "由输出可见，相比普通4次多项式回归模型，默认配置下的Ridge模型性能提高了约3%，且模型拟合后的参数间差异非常小。\n",
    "\n",
    "λ是调节因子。"
   ]
  },
  {
   "cell_type": "code",
   "execution_count": null,
   "metadata": {},
   "outputs": [],
   "source": []
  },
  {
   "cell_type": "code",
   "execution_count": null,
   "metadata": {},
   "outputs": [],
   "source": []
  },
  {
   "cell_type": "code",
   "execution_count": null,
   "metadata": {},
   "outputs": [],
   "source": []
  }
 ],
 "metadata": {
  "kernelspec": {
   "display_name": "Python 2",
   "language": "python",
   "name": "python2"
  },
  "language_info": {
   "codemirror_mode": {
    "name": "ipython",
    "version": 2
   },
   "file_extension": ".py",
   "mimetype": "text/x-python",
   "name": "python",
   "nbconvert_exporter": "python",
   "pygments_lexer": "ipython2",
   "version": "2.7.10"
  }
 },
 "nbformat": 4,
 "nbformat_minor": 2
}
